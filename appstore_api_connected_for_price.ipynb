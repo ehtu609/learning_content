{
 "cells": [
  {
   "cell_type": "code",
   "execution_count": 11,
   "id": "ffb708e1",
   "metadata": {},
   "outputs": [],
   "source": [
    "import requests, time, json \n",
    "from authlib.jose import jwt\n",
    "from pandas.io.json import json_normalize"
   ]
  },
  {
   "cell_type": "code",
   "execution_count": 12,
   "id": "edd5dd33",
   "metadata": {},
   "outputs": [],
   "source": [
    "KEY_ID = \"9G6CVN97LT\"\n",
    "ISSUER_ID = \"69a6de7b-3f5f-47e3-e053-5b8c7c11a4d1\"\n",
    "EXPIRATION_TIME = int(round(time.time()))  \n",
    "PATH_TO_KEY = 'C:/Users/ahmed/Documents/GitHub/Config/AuthKey_9G6CVN97LT.p8'\n",
    "with open(PATH_TO_KEY, 'r') as f:\n",
    "    PRIVATE_KEY = f.read()"
   ]
  },
  {
   "cell_type": "code",
   "execution_count": 13,
   "id": "ea557caa",
   "metadata": {},
   "outputs": [],
   "source": [
    "\n",
    "header = {\n",
    "\"alg\": \"ES256\",\n",
    "\"kid\": KEY_ID,\n",
    "\"typ\": \"JWT\"\n",
    "}\n"
   ]
  },
  {
   "cell_type": "code",
   "execution_count": 14,
   "id": "255274e0",
   "metadata": {},
   "outputs": [],
   "source": [
    "#Create a JWT payload\n",
    "\n",
    "payload = {\n",
    "\"iss\": ISSUER_ID,\n",
    "\"exp\": EXPIRATION_TIME,\n",
    "\"aud\": \"appstoreconnect-v1\"\n",
    "}"
   ]
  },
  {
   "cell_type": "code",
   "execution_count": 15,
   "id": "33fbae7c",
   "metadata": {},
   "outputs": [],
   "source": [
    "token = jwt.encode(header, payload, PRIVATE_KEY)"
   ]
  },
  {
   "cell_type": "code",
   "execution_count": 20,
   "id": "7b34e5b2",
   "metadata": {},
   "outputs": [],
   "source": [
    "JWT = 'Bearer ' + token.decode()\n",
    "URL = \"https://api.appstoreconnect.apple.com/v1/apps/1506886061/prices\"\n",
    "HEAD = {'Authorization': JWT}\n",
    "\n",
    "r = requests.get(URL,headers=HEAD)"
   ]
  },
  {
   "cell_type": "code",
   "execution_count": 21,
   "id": "1cc616c6",
   "metadata": {},
   "outputs": [
    {
     "data": {
      "text/plain": [
       "{'data': [{'type': 'appPrices',\n",
       "   'id': 'MTUwNjg4NjA2MSAwIE5vIFN0YXJ0IERhdGU',\n",
       "   'links': {'self': 'https://api.appstoreconnect.apple.com/v1/appPrices/MTUwNjg4NjA2MSAwIE5vIFN0YXJ0IERhdGU'}}],\n",
       " 'links': {'self': 'https://api.appstoreconnect.apple.com/v1/apps/1506886061/prices'},\n",
       " 'meta': {'paging': {'total': 1, 'limit': 50}}}"
      ]
     },
     "execution_count": 21,
     "metadata": {},
     "output_type": "execute_result"
    }
   ],
   "source": [
    "response=r.json()\n",
    "response"
   ]
  },
  {
   "cell_type": "code",
   "execution_count": 8,
   "id": "59f2de65",
   "metadata": {},
   "outputs": [
    {
     "name": "stdout",
     "output_type": "stream",
     "text": [
      "<Response [400]>\n"
     ]
    }
   ],
   "source": [
    "print(r)"
   ]
  },
  {
   "cell_type": "code",
   "execution_count": null,
   "id": "80e3f3c9",
   "metadata": {},
   "outputs": [],
   "source": [
    "KEY_ID = \"9G6CVN97LT\"\n",
    "ISSUER_ID = \"69a6de7b-3f5f-47e3-e053-5b8c7c11a4d1\"\n",
    "EXPIRATION_TIME = int(round(time.time()\n",
    "PATH_TO_KEY = 'C:/Users/ahmed/Documents/GitHub\\Config/AuthKey_9G6CVN97LT.p8'\n",
    "with open(PATH_TO_KEY, 'r') as f:\n",
    "PRIVATE_KEY = f.read()\n",
    "\n",
    "header = {\n",
    "\"alg\": \"ES256\",\n",
    "\"kid\": KEY_ID,\n",
    "\"typ\": \"JWT\"\n",
    "}\n",
    "\n",
    " \n",
    "\n",
    "#Create a JWT payload\n",
    "\n",
    "payload = {\n",
    "\"iss\": ISSUER_ID,\n",
    "\"exp\": EXPIRATION_TIME,\n",
    "\"aud\": \"appstoreconnect-v1\"\n",
    "}\n",
    "\n",
    "#Create the JWT \n",
    "\n",
    "token = jwt.encode(header, payload, PRIVATE_KEY)\n",
    "\n"
   ]
  }
 ],
 "metadata": {
  "kernelspec": {
   "display_name": "Python 3",
   "language": "python",
   "name": "python3"
  },
  "language_info": {
   "codemirror_mode": {
    "name": "ipython",
    "version": 3
   },
   "file_extension": ".py",
   "mimetype": "text/x-python",
   "name": "python",
   "nbconvert_exporter": "python",
   "pygments_lexer": "ipython3",
   "version": "3.8.8"
  }
 },
 "nbformat": 4,
 "nbformat_minor": 5
}
