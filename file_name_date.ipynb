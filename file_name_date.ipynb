{
 "cells": [
  {
   "cell_type": "code",
   "execution_count": 21,
   "id": "43ee5ead",
   "metadata": {},
   "outputs": [],
   "source": [
    "import glob\n",
    "import os\n",
    "import pandas as pd\n",
    "from datetime import datetime\n",
    "from datetime import timedelta"
   ]
  },
  {
   "cell_type": "code",
   "execution_count": 24,
   "id": "9777f4d1",
   "metadata": {},
   "outputs": [
    {
     "name": "stdout",
     "output_type": "stream",
     "text": [
      "Latest date for exports :  2021-07-12\n",
      "Oldest date for exports :  2021-04-12\n",
      "The max date to which a daily file exist:  2021-07-06\n",
      "The min date to which a daily file exist:  2021-06-06\n",
      "Today's date: 2021-07-16\n"
     ]
    }
   ],
   "source": [
    "latest_file_df =pd.read_csv(r'D:\\Mandrill_Exports\\Mandrill_Export_2021_07-12\\activity.csv')\n",
    "\n",
    "latest_file_df['just_date'] =  pd.to_datetime(latest_file_df['Date'])\n",
    "latest_file_df['just_date'] = latest_file_df['just_date'].dt.date\n",
    "\n",
    "latest_date = latest_file_df[\"just_date\"].max()\n",
    "\n",
    "oldest_date = latest_file_df[\"just_date\"].min()\n",
    "\n",
    "print(\"Latest date for exports : \", latest_date)\n",
    "print(\"Oldest date for exports : \", oldest_date)\n",
    "\n",
    "files_dates=[]\n",
    "path = r'D:\\New folder\\dailyfiles_activity'\n",
    "for (root, dirs, files) in os.walk(path, topdown=True,):\n",
    "        for file in files:\n",
    "            substring = file[-14:-4]\n",
    "            #print(substring)\n",
    "            date_time_obj = datetime.strptime(substring, '%Y-%m-%d')\n",
    "            file_date = date_time_obj.date()\n",
    "            #print(file_date)\n",
    "            files_dates.append(file_date)\n",
    "max_date=max(files_dates)\n",
    "min_date=min(files_dates)\n",
    "print(\"The max date to which a daily file exist: \",max_date)\n",
    "print(\"The min date to which a daily file exist: \",min_date)\n",
    "\n",
    "current_date = datetime.now().date()\n",
    "print(\"Today's date:\", current_date)\n",
    "\n",
    "while max_date < current_date :\n",
    "    max_date = max_date + timedelta(days=1)\n",
    "    files_dates.append(max_date)\n",
    "\n",
    "for dates in files_dates:\n",
    "    daily_wise_file_df = latest_file_df.loc[latest_file_df['just_date'] == dates]\n",
    "    path1 = r'D:\\New folder\\dailyfiles_activity\\monthly_'\n",
    "    file_name = path1 + \"mandrill_data\" + str(dates) + \".csv\"\n",
    "    daily_wise_file_df.to_csv(file_name, index=False)"
   ]
  },
  {
   "cell_type": "code",
   "execution_count": null,
   "id": "f2447f16",
   "metadata": {},
   "outputs": [],
   "source": []
  }
 ],
 "metadata": {
  "kernelspec": {
   "display_name": "Python 3",
   "language": "python",
   "name": "python3"
  },
  "language_info": {
   "codemirror_mode": {
    "name": "ipython",
    "version": 3
   },
   "file_extension": ".py",
   "mimetype": "text/x-python",
   "name": "python",
   "nbconvert_exporter": "python",
   "pygments_lexer": "ipython3",
   "version": "3.8.8"
  }
 },
 "nbformat": 4,
 "nbformat_minor": 5
}
